{
 "cells": [
  {
   "cell_type": "markdown",
   "metadata": {
    "id": "AxCcaOyAGvIS"
   },
   "source": [
    "# Filtrar Datos\n",
    "\n"
   ]
  },
  {
   "cell_type": "code",
   "execution_count": 2,
   "metadata": {
    "colab": {
     "base_uri": "https://localhost:8080/",
     "height": 206
    },
    "executionInfo": {
     "elapsed": 93,
     "status": "ok",
     "timestamp": 1740403776066,
     "user": {
      "displayName": "Christian Antonio E-A",
      "userId": "00952111370300583063"
     },
     "user_tz": 360
    },
    "id": "Aov9EcTJGvIV",
    "outputId": "32cb84eb-df1f-4646-e9e0-1684d67e3b6b"
   },
   "outputs": [
    {
     "data": {
      "text/html": [
       "<div>\n",
       "<style scoped>\n",
       "    .dataframe tbody tr th:only-of-type {\n",
       "        vertical-align: middle;\n",
       "    }\n",
       "\n",
       "    .dataframe tbody tr th {\n",
       "        vertical-align: top;\n",
       "    }\n",
       "\n",
       "    .dataframe thead th {\n",
       "        text-align: right;\n",
       "    }\n",
       "</style>\n",
       "<table border=\"1\" class=\"dataframe\">\n",
       "  <thead>\n",
       "    <tr style=\"text-align: right;\">\n",
       "      <th></th>\n",
       "      <th>pais</th>\n",
       "      <th>km2</th>\n",
       "    </tr>\n",
       "  </thead>\n",
       "  <tbody>\n",
       "    <tr>\n",
       "      <th>0</th>\n",
       "      <td>Estados Unidos</td>\n",
       "      <td>9833517</td>\n",
       "    </tr>\n",
       "    <tr>\n",
       "      <th>1</th>\n",
       "      <td>China</td>\n",
       "      <td>9600000</td>\n",
       "    </tr>\n",
       "    <tr>\n",
       "      <th>2</th>\n",
       "      <td>Brasil</td>\n",
       "      <td>8515767</td>\n",
       "    </tr>\n",
       "    <tr>\n",
       "      <th>3</th>\n",
       "      <td>India</td>\n",
       "      <td>3287263</td>\n",
       "    </tr>\n",
       "    <tr>\n",
       "      <th>4</th>\n",
       "      <td>México</td>\n",
       "      <td>1960000</td>\n",
       "    </tr>\n",
       "  </tbody>\n",
       "</table>\n",
       "</div>"
      ],
      "text/plain": [
       "             pais      km2\n",
       "0  Estados Unidos  9833517\n",
       "1           China  9600000\n",
       "2          Brasil  8515767\n",
       "3           India  3287263\n",
       "4          México  1960000"
      ]
     },
     "execution_count": 2,
     "metadata": {},
     "output_type": "execute_result"
    }
   ],
   "source": [
    "import pandas as pd\n",
    "datos = {\n",
    "    \"pais\":[\"Estados Unidos\", \"China\", \"Brasil\", \"India\", \"México\"],\n",
    "    \"km2\":[9833517, 9600000, 8515767, 3287263, 1960000]\n",
    "}\n",
    "#crear dataframe\n",
    "paises = pd.DataFrame(datos)\n",
    "paises"
   ]
  },
  {
   "cell_type": "markdown",
   "metadata": {
    "id": "l5d3PxzBGvIW"
   },
   "source": [
    "# ¿Cómo filtrar datos?"
   ]
  },
  {
   "cell_type": "code",
   "execution_count": 4,
   "metadata": {
    "colab": {
     "base_uri": "https://localhost:8080/",
     "height": 112
    },
    "executionInfo": {
     "elapsed": 36,
     "status": "ok",
     "timestamp": 1740403776084,
     "user": {
      "displayName": "Christian Antonio E-A",
      "userId": "00952111370300583063"
     },
     "user_tz": 360
    },
    "id": "K7M-X75_GvIY",
    "outputId": "8724d1c9-8dbb-4f5f-aeac-f349d04d3a7f"
   },
   "outputs": [
    {
     "data": {
      "text/html": [
       "<div>\n",
       "<style scoped>\n",
       "    .dataframe tbody tr th:only-of-type {\n",
       "        vertical-align: middle;\n",
       "    }\n",
       "\n",
       "    .dataframe tbody tr th {\n",
       "        vertical-align: top;\n",
       "    }\n",
       "\n",
       "    .dataframe thead th {\n",
       "        text-align: right;\n",
       "    }\n",
       "</style>\n",
       "<table border=\"1\" class=\"dataframe\">\n",
       "  <thead>\n",
       "    <tr style=\"text-align: right;\">\n",
       "      <th></th>\n",
       "      <th>pais</th>\n",
       "      <th>km2</th>\n",
       "    </tr>\n",
       "  </thead>\n",
       "  <tbody>\n",
       "    <tr>\n",
       "      <th>0</th>\n",
       "      <td>Estados Unidos</td>\n",
       "      <td>9833517</td>\n",
       "    </tr>\n",
       "    <tr>\n",
       "      <th>4</th>\n",
       "      <td>México</td>\n",
       "      <td>1960000</td>\n",
       "    </tr>\n",
       "  </tbody>\n",
       "</table>\n",
       "</div>"
      ],
      "text/plain": [
       "             pais      km2\n",
       "0  Estados Unidos  9833517\n",
       "4          México  1960000"
      ]
     },
     "execution_count": 4,
     "metadata": {},
     "output_type": "execute_result"
    }
   ],
   "source": [
    "filtro = [True, False, False, False, True]\n",
    "filtro\n",
    "type(filtro)\n",
    "paises[filtro]"
   ]
  },
  {
   "cell_type": "markdown",
   "metadata": {
    "id": "YrQAN_GXGvIY"
   },
   "source": [
    "#### Crear filtro para países con superficie mayor a 3287263 km^2 (aplicas el filtro y lo guardas en una variable para despues mostrarlo)"
   ]
  },
  {
   "cell_type": "code",
   "execution_count": 6,
   "metadata": {
    "colab": {
     "base_uri": "https://localhost:8080/",
     "height": 241
    },
    "executionInfo": {
     "elapsed": 27,
     "status": "ok",
     "timestamp": 1740403776116,
     "user": {
      "displayName": "Christian Antonio E-A",
      "userId": "00952111370300583063"
     },
     "user_tz": 360
    },
    "id": "95rDVv0tGvIZ",
    "outputId": "3a76cfa4-554c-4a51-c22f-6b3c2a852fbd"
   },
   "outputs": [
    {
     "data": {
      "text/plain": [
       "0     True\n",
       "1     True\n",
       "2     True\n",
       "3    False\n",
       "4    False\n",
       "Name: km2, dtype: bool"
      ]
     },
     "execution_count": 6,
     "metadata": {},
     "output_type": "execute_result"
    }
   ],
   "source": [
    "filtro = paises['km2'] > 3287263\n",
    "filtro"
   ]
  },
  {
   "cell_type": "markdown",
   "metadata": {
    "id": "yoyn6-SBGvIa"
   },
   "source": [
    "#### Filtrar países con superficie mayor a 3287263 km^2, pero también se puede aplicar directamnete sin usar una variable"
   ]
  },
  {
   "cell_type": "code",
   "execution_count": 8,
   "metadata": {
    "colab": {
     "base_uri": "https://localhost:8080/",
     "height": 143
    },
    "executionInfo": {
     "elapsed": 25,
     "status": "ok",
     "timestamp": 1740403776144,
     "user": {
      "displayName": "Christian Antonio E-A",
      "userId": "00952111370300583063"
     },
     "user_tz": 360
    },
    "id": "SInpoRNiGvIb",
    "outputId": "d7ad76b8-002a-4a98-c96e-cf7bbc3b53db"
   },
   "outputs": [
    {
     "data": {
      "text/html": [
       "<div>\n",
       "<style scoped>\n",
       "    .dataframe tbody tr th:only-of-type {\n",
       "        vertical-align: middle;\n",
       "    }\n",
       "\n",
       "    .dataframe tbody tr th {\n",
       "        vertical-align: top;\n",
       "    }\n",
       "\n",
       "    .dataframe thead th {\n",
       "        text-align: right;\n",
       "    }\n",
       "</style>\n",
       "<table border=\"1\" class=\"dataframe\">\n",
       "  <thead>\n",
       "    <tr style=\"text-align: right;\">\n",
       "      <th></th>\n",
       "      <th>pais</th>\n",
       "      <th>km2</th>\n",
       "    </tr>\n",
       "  </thead>\n",
       "  <tbody>\n",
       "    <tr>\n",
       "      <th>0</th>\n",
       "      <td>Estados Unidos</td>\n",
       "      <td>9833517</td>\n",
       "    </tr>\n",
       "    <tr>\n",
       "      <th>1</th>\n",
       "      <td>China</td>\n",
       "      <td>9600000</td>\n",
       "    </tr>\n",
       "    <tr>\n",
       "      <th>2</th>\n",
       "      <td>Brasil</td>\n",
       "      <td>8515767</td>\n",
       "    </tr>\n",
       "  </tbody>\n",
       "</table>\n",
       "</div>"
      ],
      "text/plain": [
       "             pais      km2\n",
       "0  Estados Unidos  9833517\n",
       "1           China  9600000\n",
       "2          Brasil  8515767"
      ]
     },
     "execution_count": 8,
     "metadata": {},
     "output_type": "execute_result"
    }
   ],
   "source": [
    "#paises[filtro]\n",
    "paises[paises['km2'] > 3287263]"
   ]
  },
  {
   "cell_type": "markdown",
   "metadata": {
    "id": "MUKz_OhiJ-Na"
   },
   "source": []
  },
  {
   "cell_type": "markdown",
   "metadata": {
    "id": "gJN8PztjGvIc"
   },
   "source": [
    "#### Crear DataFrame a partir de datos_paises.csv, el # es para indicar el indice"
   ]
  },
  {
   "cell_type": "code",
   "execution_count": 11,
   "metadata": {
    "colab": {
     "base_uri": "https://localhost:8080/",
     "height": 321
    },
    "executionInfo": {
     "elapsed": 64,
     "status": "error",
     "timestamp": 1740403987414,
     "user": {
      "displayName": "Christian Antonio E-A",
      "userId": "00952111370300583063"
     },
     "user_tz": 360
    },
    "id": "4OXnYaaZGvId",
    "outputId": "d70b7b92-cada-4894-cf5b-ddbfabf33eb0"
   },
   "outputs": [
    {
     "data": {
      "text/html": [
       "<div>\n",
       "<style scoped>\n",
       "    .dataframe tbody tr th:only-of-type {\n",
       "        vertical-align: middle;\n",
       "    }\n",
       "\n",
       "    .dataframe tbody tr th {\n",
       "        vertical-align: top;\n",
       "    }\n",
       "\n",
       "    .dataframe thead th {\n",
       "        text-align: right;\n",
       "    }\n",
       "</style>\n",
       "<table border=\"1\" class=\"dataframe\">\n",
       "  <thead>\n",
       "    <tr style=\"text-align: right;\">\n",
       "      <th></th>\n",
       "      <th>continente</th>\n",
       "      <th>km2</th>\n",
       "      <th>poblacion_miles</th>\n",
       "    </tr>\n",
       "    <tr>\n",
       "      <th>pais</th>\n",
       "      <th></th>\n",
       "      <th></th>\n",
       "      <th></th>\n",
       "    </tr>\n",
       "  </thead>\n",
       "  <tbody>\n",
       "    <tr>\n",
       "      <th>China</th>\n",
       "      <td>Asia</td>\n",
       "      <td>9600000.0</td>\n",
       "      <td>1409517</td>\n",
       "    </tr>\n",
       "    <tr>\n",
       "      <th>India</th>\n",
       "      <td>Asia</td>\n",
       "      <td>3287263.0</td>\n",
       "      <td>1339180</td>\n",
       "    </tr>\n",
       "    <tr>\n",
       "      <th>United States of America</th>\n",
       "      <td>America</td>\n",
       "      <td>9833517.0</td>\n",
       "      <td>324460</td>\n",
       "    </tr>\n",
       "    <tr>\n",
       "      <th>Indonesia</th>\n",
       "      <td>Asia</td>\n",
       "      <td>1910931.0</td>\n",
       "      <td>263991</td>\n",
       "    </tr>\n",
       "    <tr>\n",
       "      <th>Brazil</th>\n",
       "      <td>America</td>\n",
       "      <td>8515767.0</td>\n",
       "      <td>209288</td>\n",
       "    </tr>\n",
       "    <tr>\n",
       "      <th>...</th>\n",
       "      <td>...</td>\n",
       "      <td>...</td>\n",
       "      <td>...</td>\n",
       "    </tr>\n",
       "    <tr>\n",
       "      <th>Saint Helena</th>\n",
       "      <td>Africa</td>\n",
       "      <td>308.0</td>\n",
       "      <td>4</td>\n",
       "    </tr>\n",
       "    <tr>\n",
       "      <th>Falkland Islands (Malvinas)</th>\n",
       "      <td>America</td>\n",
       "      <td>12173.0</td>\n",
       "      <td>3</td>\n",
       "    </tr>\n",
       "    <tr>\n",
       "      <th>Niue</th>\n",
       "      <td>Oceania</td>\n",
       "      <td>260.0</td>\n",
       "      <td>2</td>\n",
       "    </tr>\n",
       "    <tr>\n",
       "      <th>Holy See</th>\n",
       "      <td>Europa</td>\n",
       "      <td>1.0</td>\n",
       "      <td>1</td>\n",
       "    </tr>\n",
       "    <tr>\n",
       "      <th>Tokelau</th>\n",
       "      <td>Oceania</td>\n",
       "      <td>12.0</td>\n",
       "      <td>1</td>\n",
       "    </tr>\n",
       "  </tbody>\n",
       "</table>\n",
       "<p>229 rows × 3 columns</p>\n",
       "</div>"
      ],
      "text/plain": [
       "                            continente        km2  poblacion_miles\n",
       "pais                                                              \n",
       "China                             Asia  9600000.0          1409517\n",
       "India                             Asia  3287263.0          1339180\n",
       "United States of America       America  9833517.0           324460\n",
       "Indonesia                         Asia  1910931.0           263991\n",
       "Brazil                         America  8515767.0           209288\n",
       "...                                ...        ...              ...\n",
       "Saint Helena                    Africa      308.0                4\n",
       "Falkland Islands (Malvinas)    America    12173.0                3\n",
       "Niue                           Oceania      260.0                2\n",
       "Holy See                        Europa        1.0                1\n",
       "Tokelau                        Oceania       12.0                1\n",
       "\n",
       "[229 rows x 3 columns]"
      ]
     },
     "execution_count": 11,
     "metadata": {},
     "output_type": "execute_result"
    }
   ],
   "source": [
    "paises = pd.read_csv('datos_paises.csv', index_col=0)\n",
    "paises\n",
    "\n"
   ]
  },
  {
   "cell_type": "markdown",
   "metadata": {
    "id": "F5QPiNBcGvIe"
   },
   "source": [
    "### Seleccionando países de extensión pequeña\n",
    "#### Crear filtro para países con superficie menor a 50 km^2"
   ]
  },
  {
   "cell_type": "code",
   "execution_count": 37,
   "metadata": {
    "executionInfo": {
     "elapsed": 26,
     "status": "aborted",
     "timestamp": 1740403776278,
     "user": {
      "displayName": "Christian Antonio E-A",
      "userId": "00952111370300583063"
     },
     "user_tz": 360
    },
    "id": "p9UoAIPHGvIf"
   },
   "outputs": [
    {
     "data": {
      "text/html": [
       "<div>\n",
       "<style scoped>\n",
       "    .dataframe tbody tr th:only-of-type {\n",
       "        vertical-align: middle;\n",
       "    }\n",
       "\n",
       "    .dataframe tbody tr th {\n",
       "        vertical-align: top;\n",
       "    }\n",
       "\n",
       "    .dataframe thead th {\n",
       "        text-align: right;\n",
       "    }\n",
       "</style>\n",
       "<table border=\"1\" class=\"dataframe\">\n",
       "  <thead>\n",
       "    <tr style=\"text-align: right;\">\n",
       "      <th></th>\n",
       "      <th>continente</th>\n",
       "      <th>km2</th>\n",
       "      <th>poblacion_miles</th>\n",
       "    </tr>\n",
       "    <tr>\n",
       "      <th>pais</th>\n",
       "      <th></th>\n",
       "      <th></th>\n",
       "      <th></th>\n",
       "    </tr>\n",
       "  </thead>\n",
       "  <tbody>\n",
       "    <tr>\n",
       "      <th>China</th>\n",
       "      <td>Asia</td>\n",
       "      <td>9600000.0</td>\n",
       "      <td>1409517</td>\n",
       "    </tr>\n",
       "    <tr>\n",
       "      <th>India</th>\n",
       "      <td>Asia</td>\n",
       "      <td>3287263.0</td>\n",
       "      <td>1339180</td>\n",
       "    </tr>\n",
       "    <tr>\n",
       "      <th>United States of America</th>\n",
       "      <td>America</td>\n",
       "      <td>9833517.0</td>\n",
       "      <td>324460</td>\n",
       "    </tr>\n",
       "    <tr>\n",
       "      <th>Indonesia</th>\n",
       "      <td>Asia</td>\n",
       "      <td>1910931.0</td>\n",
       "      <td>263991</td>\n",
       "    </tr>\n",
       "    <tr>\n",
       "      <th>Brazil</th>\n",
       "      <td>America</td>\n",
       "      <td>8515767.0</td>\n",
       "      <td>209288</td>\n",
       "    </tr>\n",
       "    <tr>\n",
       "      <th>...</th>\n",
       "      <td>...</td>\n",
       "      <td>...</td>\n",
       "      <td>...</td>\n",
       "    </tr>\n",
       "    <tr>\n",
       "      <th>Saint Pierre and Miquelon</th>\n",
       "      <td>America</td>\n",
       "      <td>242.0</td>\n",
       "      <td>6</td>\n",
       "    </tr>\n",
       "    <tr>\n",
       "      <th>Montserrat</th>\n",
       "      <td>America</td>\n",
       "      <td>103.0</td>\n",
       "      <td>5</td>\n",
       "    </tr>\n",
       "    <tr>\n",
       "      <th>Saint Helena</th>\n",
       "      <td>Africa</td>\n",
       "      <td>308.0</td>\n",
       "      <td>4</td>\n",
       "    </tr>\n",
       "    <tr>\n",
       "      <th>Falkland Islands (Malvinas)</th>\n",
       "      <td>America</td>\n",
       "      <td>12173.0</td>\n",
       "      <td>3</td>\n",
       "    </tr>\n",
       "    <tr>\n",
       "      <th>Niue</th>\n",
       "      <td>Oceania</td>\n",
       "      <td>260.0</td>\n",
       "      <td>2</td>\n",
       "    </tr>\n",
       "  </tbody>\n",
       "</table>\n",
       "<p>219 rows × 3 columns</p>\n",
       "</div>"
      ],
      "text/plain": [
       "                            continente        km2  poblacion_miles\n",
       "pais                                                              \n",
       "China                             Asia  9600000.0          1409517\n",
       "India                             Asia  3287263.0          1339180\n",
       "United States of America       America  9833517.0           324460\n",
       "Indonesia                         Asia  1910931.0           263991\n",
       "Brazil                         America  8515767.0           209288\n",
       "...                                ...        ...              ...\n",
       "Saint Pierre and Miquelon      America      242.0                6\n",
       "Montserrat                     America      103.0                5\n",
       "Saint Helena                    Africa      308.0                4\n",
       "Falkland Islands (Malvinas)    America    12173.0                3\n",
       "Niue                           Oceania      260.0                2\n",
       "\n",
       "[219 rows x 3 columns]"
      ]
     },
     "execution_count": 37,
     "metadata": {},
     "output_type": "execute_result"
    }
   ],
   "source": [
    "filtro = (paises ['km2']>50 )\n",
    "filtro\n",
    "paises[filtro]"
   ]
  },
  {
   "cell_type": "markdown",
   "metadata": {
    "id": "JYosmvquGvIg"
   },
   "source": [
    "#### Filtrar países con superficie menor a 50 km^2"
   ]
  },
  {
   "cell_type": "code",
   "execution_count": 39,
   "metadata": {
    "executionInfo": {
     "elapsed": 19,
     "status": "aborted",
     "timestamp": 1740403776280,
     "user": {
      "displayName": "Christian Antonio E-A",
      "userId": "00952111370300583063"
     },
     "user_tz": 360
    },
    "id": "QTIxWq-XGvIg"
   },
   "outputs": [
    {
     "data": {
      "text/html": [
       "<div>\n",
       "<style scoped>\n",
       "    .dataframe tbody tr th:only-of-type {\n",
       "        vertical-align: middle;\n",
       "    }\n",
       "\n",
       "    .dataframe tbody tr th {\n",
       "        vertical-align: top;\n",
       "    }\n",
       "\n",
       "    .dataframe thead th {\n",
       "        text-align: right;\n",
       "    }\n",
       "</style>\n",
       "<table border=\"1\" class=\"dataframe\">\n",
       "  <thead>\n",
       "    <tr style=\"text-align: right;\">\n",
       "      <th></th>\n",
       "      <th>continente</th>\n",
       "      <th>km2</th>\n",
       "      <th>poblacion_miles</th>\n",
       "    </tr>\n",
       "    <tr>\n",
       "      <th>pais</th>\n",
       "      <th></th>\n",
       "      <th></th>\n",
       "      <th></th>\n",
       "    </tr>\n",
       "  </thead>\n",
       "  <tbody>\n",
       "    <tr>\n",
       "      <th>China, Macao SAR</th>\n",
       "      <td>Asia</td>\n",
       "      <td>30.0</td>\n",
       "      <td>623</td>\n",
       "    </tr>\n",
       "    <tr>\n",
       "      <th>Sint Maarten (Dutch part)</th>\n",
       "      <td>America</td>\n",
       "      <td>34.0</td>\n",
       "      <td>40</td>\n",
       "    </tr>\n",
       "    <tr>\n",
       "      <th>Monaco</th>\n",
       "      <td>Europa</td>\n",
       "      <td>2.0</td>\n",
       "      <td>39</td>\n",
       "    </tr>\n",
       "    <tr>\n",
       "      <th>Gibraltar</th>\n",
       "      <td>Europa</td>\n",
       "      <td>6.0</td>\n",
       "      <td>35</td>\n",
       "    </tr>\n",
       "    <tr>\n",
       "      <th>Bonaire, Sint Eustatius and Saba</th>\n",
       "      <td>America</td>\n",
       "      <td>1.0</td>\n",
       "      <td>25</td>\n",
       "    </tr>\n",
       "    <tr>\n",
       "      <th>Nauru</th>\n",
       "      <td>Oceania</td>\n",
       "      <td>21.0</td>\n",
       "      <td>11</td>\n",
       "    </tr>\n",
       "    <tr>\n",
       "      <th>Tuvalu</th>\n",
       "      <td>Oceania</td>\n",
       "      <td>26.0</td>\n",
       "      <td>11</td>\n",
       "    </tr>\n",
       "    <tr>\n",
       "      <th>Holy See</th>\n",
       "      <td>Europa</td>\n",
       "      <td>1.0</td>\n",
       "      <td>1</td>\n",
       "    </tr>\n",
       "    <tr>\n",
       "      <th>Tokelau</th>\n",
       "      <td>Oceania</td>\n",
       "      <td>12.0</td>\n",
       "      <td>1</td>\n",
       "    </tr>\n",
       "  </tbody>\n",
       "</table>\n",
       "</div>"
      ],
      "text/plain": [
       "                                 continente   km2  poblacion_miles\n",
       "pais                                                              \n",
       "China, Macao SAR                       Asia  30.0              623\n",
       "Sint Maarten (Dutch part)           America  34.0               40\n",
       "Monaco                               Europa   2.0               39\n",
       "Gibraltar                            Europa   6.0               35\n",
       "Bonaire, Sint Eustatius and Saba    America   1.0               25\n",
       "Nauru                               Oceania  21.0               11\n",
       "Tuvalu                              Oceania  26.0               11\n",
       "Holy See                             Europa   1.0                1\n",
       "Tokelau                             Oceania  12.0                1"
      ]
     },
     "execution_count": 39,
     "metadata": {},
     "output_type": "execute_result"
    }
   ],
   "source": [
    "filtro = (paises ['km2']<50 )\n",
    "filtro\n",
    "paises[filtro]"
   ]
  },
  {
   "cell_type": "markdown",
   "metadata": {
    "id": "jag09DstGvIh"
   },
   "source": [
    "### Seleccionando países pequeños pero altamente poblados\n",
    "#### Países con superficie menor a 50 km^2 y población mayor 500"
   ]
  },
  {
   "cell_type": "code",
   "execution_count": 31,
   "metadata": {
    "executionInfo": {
     "elapsed": 24,
     "status": "aborted",
     "timestamp": 1740403776287,
     "user": {
      "displayName": "Christian Antonio E-A",
      "userId": "00952111370300583063"
     },
     "user_tz": 360
    },
    "id": "cuZA17D0GvIh"
   },
   "outputs": [
    {
     "data": {
      "text/html": [
       "<div>\n",
       "<style scoped>\n",
       "    .dataframe tbody tr th:only-of-type {\n",
       "        vertical-align: middle;\n",
       "    }\n",
       "\n",
       "    .dataframe tbody tr th {\n",
       "        vertical-align: top;\n",
       "    }\n",
       "\n",
       "    .dataframe thead th {\n",
       "        text-align: right;\n",
       "    }\n",
       "</style>\n",
       "<table border=\"1\" class=\"dataframe\">\n",
       "  <thead>\n",
       "    <tr style=\"text-align: right;\">\n",
       "      <th></th>\n",
       "      <th>continente</th>\n",
       "      <th>km2</th>\n",
       "      <th>poblacion_miles</th>\n",
       "    </tr>\n",
       "    <tr>\n",
       "      <th>pais</th>\n",
       "      <th></th>\n",
       "      <th></th>\n",
       "      <th></th>\n",
       "    </tr>\n",
       "  </thead>\n",
       "  <tbody>\n",
       "    <tr>\n",
       "      <th>China, Macao SAR</th>\n",
       "      <td>Asia</td>\n",
       "      <td>30.0</td>\n",
       "      <td>623</td>\n",
       "    </tr>\n",
       "  </tbody>\n",
       "</table>\n",
       "</div>"
      ],
      "text/plain": [
       "                 continente   km2  poblacion_miles\n",
       "pais                                              \n",
       "China, Macao SAR       Asia  30.0              623"
      ]
     },
     "execution_count": 31,
     "metadata": {},
     "output_type": "execute_result"
    }
   ],
   "source": [
    "filtro = (paises ['km2']<50 ) & (paises['poblacion_miles']>500)\n",
    "filtro\n",
    "paises[filtro]"
   ]
  },
  {
   "cell_type": "markdown",
   "metadata": {
    "id": "shAlQVU8GvIi"
   },
   "source": [
    "### Seleccionando países muy pequeños ó poco poblados\n",
    "#### Países con superficie menor a 5 km^2 ó con población menor a 5"
   ]
  },
  {
   "cell_type": "code",
   "execution_count": 45,
   "metadata": {
    "executionInfo": {
     "elapsed": 21,
     "status": "aborted",
     "timestamp": 1740403776289,
     "user": {
      "displayName": "Christian Antonio E-A",
      "userId": "00952111370300583063"
     },
     "user_tz": 360
    },
    "id": "EJGwQSJmGvIi"
   },
   "outputs": [
    {
     "data": {
      "text/html": [
       "<div>\n",
       "<style scoped>\n",
       "    .dataframe tbody tr th:only-of-type {\n",
       "        vertical-align: middle;\n",
       "    }\n",
       "\n",
       "    .dataframe tbody tr th {\n",
       "        vertical-align: top;\n",
       "    }\n",
       "\n",
       "    .dataframe thead th {\n",
       "        text-align: right;\n",
       "    }\n",
       "</style>\n",
       "<table border=\"1\" class=\"dataframe\">\n",
       "  <thead>\n",
       "    <tr style=\"text-align: right;\">\n",
       "      <th></th>\n",
       "      <th>continente</th>\n",
       "      <th>km2</th>\n",
       "      <th>poblacion_miles</th>\n",
       "    </tr>\n",
       "    <tr>\n",
       "      <th>pais</th>\n",
       "      <th></th>\n",
       "      <th></th>\n",
       "      <th></th>\n",
       "    </tr>\n",
       "  </thead>\n",
       "  <tbody>\n",
       "    <tr>\n",
       "      <th>Monaco</th>\n",
       "      <td>Europa</td>\n",
       "      <td>2.0</td>\n",
       "      <td>39</td>\n",
       "    </tr>\n",
       "    <tr>\n",
       "      <th>Bonaire, Sint Eustatius and Saba</th>\n",
       "      <td>America</td>\n",
       "      <td>1.0</td>\n",
       "      <td>25</td>\n",
       "    </tr>\n",
       "    <tr>\n",
       "      <th>Saint Helena</th>\n",
       "      <td>Africa</td>\n",
       "      <td>308.0</td>\n",
       "      <td>4</td>\n",
       "    </tr>\n",
       "    <tr>\n",
       "      <th>Falkland Islands (Malvinas)</th>\n",
       "      <td>America</td>\n",
       "      <td>12173.0</td>\n",
       "      <td>3</td>\n",
       "    </tr>\n",
       "    <tr>\n",
       "      <th>Niue</th>\n",
       "      <td>Oceania</td>\n",
       "      <td>260.0</td>\n",
       "      <td>2</td>\n",
       "    </tr>\n",
       "    <tr>\n",
       "      <th>Holy See</th>\n",
       "      <td>Europa</td>\n",
       "      <td>1.0</td>\n",
       "      <td>1</td>\n",
       "    </tr>\n",
       "    <tr>\n",
       "      <th>Tokelau</th>\n",
       "      <td>Oceania</td>\n",
       "      <td>12.0</td>\n",
       "      <td>1</td>\n",
       "    </tr>\n",
       "  </tbody>\n",
       "</table>\n",
       "</div>"
      ],
      "text/plain": [
       "                                 continente      km2  poblacion_miles\n",
       "pais                                                                 \n",
       "Monaco                               Europa      2.0               39\n",
       "Bonaire, Sint Eustatius and Saba    America      1.0               25\n",
       "Saint Helena                         Africa    308.0                4\n",
       "Falkland Islands (Malvinas)         America  12173.0                3\n",
       "Niue                                Oceania    260.0                2\n",
       "Holy See                             Europa      1.0                1\n",
       "Tokelau                             Oceania     12.0                1"
      ]
     },
     "execution_count": 45,
     "metadata": {},
     "output_type": "execute_result"
    }
   ],
   "source": [
    "filtro = (paises ['km2']<5 ) | (paises['poblacion_miles']<5)\n",
    "filtro\n",
    "paises[filtro]"
   ]
  },
  {
   "cell_type": "markdown",
   "metadata": {
    "id": "1uSyD2K6GvIj"
   },
   "source": [
    "### Seleccionando países pequeños, poco poblados y europeos\n",
    "#### Países europeos con superficie menor a 50 km^2 y con población menor a 50"
   ]
  },
  {
   "cell_type": "code",
   "execution_count": 49,
   "metadata": {
    "executionInfo": {
     "elapsed": 28,
     "status": "aborted",
     "timestamp": 1740403776298,
     "user": {
      "displayName": "Christian Antonio E-A",
      "userId": "00952111370300583063"
     },
     "user_tz": 360
    },
    "id": "a4TuyQGrGvIj"
   },
   "outputs": [
    {
     "data": {
      "text/html": [
       "<div>\n",
       "<style scoped>\n",
       "    .dataframe tbody tr th:only-of-type {\n",
       "        vertical-align: middle;\n",
       "    }\n",
       "\n",
       "    .dataframe tbody tr th {\n",
       "        vertical-align: top;\n",
       "    }\n",
       "\n",
       "    .dataframe thead th {\n",
       "        text-align: right;\n",
       "    }\n",
       "</style>\n",
       "<table border=\"1\" class=\"dataframe\">\n",
       "  <thead>\n",
       "    <tr style=\"text-align: right;\">\n",
       "      <th></th>\n",
       "      <th>continente</th>\n",
       "      <th>km2</th>\n",
       "      <th>poblacion_miles</th>\n",
       "    </tr>\n",
       "    <tr>\n",
       "      <th>pais</th>\n",
       "      <th></th>\n",
       "      <th></th>\n",
       "      <th></th>\n",
       "    </tr>\n",
       "  </thead>\n",
       "  <tbody>\n",
       "    <tr>\n",
       "      <th>Monaco</th>\n",
       "      <td>Europa</td>\n",
       "      <td>2.0</td>\n",
       "      <td>39</td>\n",
       "    </tr>\n",
       "    <tr>\n",
       "      <th>Gibraltar</th>\n",
       "      <td>Europa</td>\n",
       "      <td>6.0</td>\n",
       "      <td>35</td>\n",
       "    </tr>\n",
       "    <tr>\n",
       "      <th>Holy See</th>\n",
       "      <td>Europa</td>\n",
       "      <td>1.0</td>\n",
       "      <td>1</td>\n",
       "    </tr>\n",
       "  </tbody>\n",
       "</table>\n",
       "</div>"
      ],
      "text/plain": [
       "          continente  km2  poblacion_miles\n",
       "pais                                      \n",
       "Monaco        Europa  2.0               39\n",
       "Gibraltar     Europa  6.0               35\n",
       "Holy See      Europa  1.0                1"
      ]
     },
     "execution_count": 49,
     "metadata": {},
     "output_type": "execute_result"
    }
   ],
   "source": [
    "filtro = (paises ['km2']<50 ) & (paises['poblacion_miles']<50) & (paises['continente']== 'Europa')\n",
    "filtro\n",
    "paises[filtro]"
   ]
  },
  {
   "cell_type": "markdown",
   "metadata": {
    "id": "7yEwYvzTGvIj"
   },
   "source": [
    "### Seleccionando países pequeños, poco poblados y no europeos\n",
    "#### Países no europeos con superficie menor a 50 km^2 y con población menor a 50"
   ]
  },
  {
   "cell_type": "code",
   "execution_count": 57,
   "metadata": {
    "executionInfo": {
     "elapsed": 32,
     "status": "aborted",
     "timestamp": 1740403776303,
     "user": {
      "displayName": "Christian Antonio E-A",
      "userId": "00952111370300583063"
     },
     "user_tz": 360
    },
    "id": "IE6pGlA7GvIk"
   },
   "outputs": [
    {
     "data": {
      "text/html": [
       "<div>\n",
       "<style scoped>\n",
       "    .dataframe tbody tr th:only-of-type {\n",
       "        vertical-align: middle;\n",
       "    }\n",
       "\n",
       "    .dataframe tbody tr th {\n",
       "        vertical-align: top;\n",
       "    }\n",
       "\n",
       "    .dataframe thead th {\n",
       "        text-align: right;\n",
       "    }\n",
       "</style>\n",
       "<table border=\"1\" class=\"dataframe\">\n",
       "  <thead>\n",
       "    <tr style=\"text-align: right;\">\n",
       "      <th></th>\n",
       "      <th>continente</th>\n",
       "      <th>km2</th>\n",
       "      <th>poblacion_miles</th>\n",
       "    </tr>\n",
       "    <tr>\n",
       "      <th>pais</th>\n",
       "      <th></th>\n",
       "      <th></th>\n",
       "      <th></th>\n",
       "    </tr>\n",
       "  </thead>\n",
       "  <tbody>\n",
       "    <tr>\n",
       "      <th>Sint Maarten (Dutch part)</th>\n",
       "      <td>America</td>\n",
       "      <td>34.0</td>\n",
       "      <td>40</td>\n",
       "    </tr>\n",
       "    <tr>\n",
       "      <th>Bonaire, Sint Eustatius and Saba</th>\n",
       "      <td>America</td>\n",
       "      <td>1.0</td>\n",
       "      <td>25</td>\n",
       "    </tr>\n",
       "    <tr>\n",
       "      <th>Nauru</th>\n",
       "      <td>Oceania</td>\n",
       "      <td>21.0</td>\n",
       "      <td>11</td>\n",
       "    </tr>\n",
       "    <tr>\n",
       "      <th>Tuvalu</th>\n",
       "      <td>Oceania</td>\n",
       "      <td>26.0</td>\n",
       "      <td>11</td>\n",
       "    </tr>\n",
       "    <tr>\n",
       "      <th>Tokelau</th>\n",
       "      <td>Oceania</td>\n",
       "      <td>12.0</td>\n",
       "      <td>1</td>\n",
       "    </tr>\n",
       "  </tbody>\n",
       "</table>\n",
       "</div>"
      ],
      "text/plain": [
       "                                 continente   km2  poblacion_miles\n",
       "pais                                                              \n",
       "Sint Maarten (Dutch part)           America  34.0               40\n",
       "Bonaire, Sint Eustatius and Saba    America   1.0               25\n",
       "Nauru                               Oceania  21.0               11\n",
       "Tuvalu                              Oceania  26.0               11\n",
       "Tokelau                             Oceania  12.0                1"
      ]
     },
     "execution_count": 57,
     "metadata": {},
     "output_type": "execute_result"
    }
   ],
   "source": [
    "#filtro = (paises ['km2']<50 ) & (paises['poblacion_miles']<50) & (paises['continente']!= 'Europa')\n",
    "filtro = (paises ['km2']<50 ) & (paises['poblacion_miles']<50) & ~(paises['continente']== 'Europa')\n",
    "filtro\n",
    "paises[filtro]"
   ]
  },
  {
   "cell_type": "code",
   "execution_count": null,
   "metadata": {
    "executionInfo": {
     "elapsed": 37,
     "status": "aborted",
     "timestamp": 1740403776309,
     "user": {
      "displayName": "Christian Antonio E-A",
      "userId": "00952111370300583063"
     },
     "user_tz": 360
    },
    "id": "q_jLh3I6GvIk"
   },
   "outputs": [],
   "source": []
  }
 ],
 "metadata": {
  "colab": {
   "provenance": []
  },
  "kernelspec": {
   "display_name": "Python [conda env:base] *",
   "language": "python",
   "name": "conda-base-py"
  },
  "language_info": {
   "codemirror_mode": {
    "name": "ipython",
    "version": 3
   },
   "file_extension": ".py",
   "mimetype": "text/x-python",
   "name": "python",
   "nbconvert_exporter": "python",
   "pygments_lexer": "ipython3",
   "version": "3.12.7"
  }
 },
 "nbformat": 4,
 "nbformat_minor": 4
}
