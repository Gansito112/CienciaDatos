{
 "cells": [
  {
   "cell_type": "code",
   "execution_count": 1,
   "id": "4e3fdade",
   "metadata": {},
   "outputs": [],
   "source": [
    "#import pandas\n",
    "import pandas as pd"
   ]
  },
  {
   "cell_type": "code",
   "execution_count": 3,
   "id": "9dfaf0d2",
   "metadata": {},
   "outputs": [],
   "source": [
    "# leyendo el archivo csv\n",
    "df = pd.read_csv(\"StudentsPerformance.csv\")"
   ]
  },
  {
   "cell_type": "markdown",
   "id": "de860322",
   "metadata": {},
   "source": [
    "# Seleccionar 1 columna"
   ]
  },
  {
   "cell_type": "markdown",
   "id": "4869f1d5",
   "metadata": {},
   "source": [
    "## Syntax 1"
   ]
  },
  {
   "cell_type": "code",
   "execution_count": 7,
   "id": "79ba5c16",
   "metadata": {},
   "outputs": [
    {
     "data": {
      "text/plain": [
       "0          standard\n",
       "1          standard\n",
       "2          standard\n",
       "3      free/reduced\n",
       "4          standard\n",
       "           ...     \n",
       "995        standard\n",
       "996    free/reduced\n",
       "997    free/reduced\n",
       "998        standard\n",
       "999    free/reduced\n",
       "Name: lunch, Length: 1000, dtype: object"
      ]
     },
     "execution_count": 7,
     "metadata": {},
     "output_type": "execute_result"
    }
   ],
   "source": [
    "# seleccionar una columna con [] (forma preferida de seleccionar una columna)\n",
    "df['gender']\n",
    "df['lunch']"
   ]
  },
  {
   "cell_type": "code",
   "execution_count": 9,
   "id": "1da5d438",
   "metadata": {},
   "outputs": [
    {
     "data": {
      "text/plain": [
       "pandas.core.series.Series"
      ]
     },
     "execution_count": 9,
     "metadata": {},
     "output_type": "execute_result"
    }
   ],
   "source": [
    "# revisar el tipo de data de una columna\n",
    "type(df['gender'])"
   ]
  },
  {
   "cell_type": "code",
   "execution_count": 23,
   "id": "d7041d6f",
   "metadata": {},
   "outputs": [
    {
     "data": {
      "text/plain": [
       "0    female\n",
       "1    female\n",
       "2    female\n",
       "3      male\n",
       "4      male\n",
       "Name: gender, dtype: object"
      ]
     },
     "execution_count": 23,
     "metadata": {},
     "output_type": "execute_result"
    }
   ],
   "source": [
    "# series: atributos y metodos\n",
    "df['gender'].index\n",
    "df['gender'].tail()\n",
    "df['gender'].head()"
   ]
  },
  {
   "cell_type": "markdown",
   "id": "025f3788",
   "metadata": {},
   "source": [
    "## Syntax 2"
   ]
  },
  {
   "cell_type": "code",
   "execution_count": 31,
   "id": "5250d3b6",
   "metadata": {},
   "outputs": [
    {
     "data": {
      "text/plain": [
       "0        standard\n",
       "1        standard\n",
       "2        standard\n",
       "3    free/reduced\n",
       "4        standard\n",
       "Name: lunch, dtype: object"
      ]
     },
     "execution_count": 31,
     "metadata": {},
     "output_type": "execute_result"
    }
   ],
   "source": [
    "# seleccionar una columna con .\n",
    "df.lunch\n",
    "df.lunch.tail() #seleccionar la columna y mostrar los ultimos 5\n",
    "df.lunch.tail(20) #seleccionar la columna y mostrar los ultimos 20\n",
    "df.lunch.head(5) #seleccionar la columna y mostrar los primeros 5"
   ]
  },
  {
   "cell_type": "code",
   "execution_count": 35,
   "id": "aa3433f7",
   "metadata": {},
   "outputs": [
    {
     "data": {
      "text/plain": [
       "0      72\n",
       "1      69\n",
       "2      90\n",
       "3      47\n",
       "4      76\n",
       "       ..\n",
       "995    88\n",
       "996    62\n",
       "997    59\n",
       "998    68\n",
       "999    77\n",
       "Name: math score, Length: 1000, dtype: int64"
      ]
     },
     "execution_count": 35,
     "metadata": {},
     "output_type": "execute_result"
    }
   ],
   "source": [
    "# seleccionar una columna con . (errores que encontraras)\n",
    "df.columns\n",
    "df['math score']"
   ]
  },
  {
   "cell_type": "code",
   "execution_count": 8,
   "id": "92b4ae17",
   "metadata": {},
   "outputs": [
    {
     "data": {
      "text/plain": [
       "0      72\n",
       "1      69\n",
       "2      90\n",
       "3      47\n",
       "4      76\n",
       "       ..\n",
       "995    88\n",
       "996    62\n",
       "997    59\n",
       "998    68\n",
       "999    77\n",
       "Name: math score, Length: 1000, dtype: int64"
      ]
     },
     "execution_count": 8,
     "metadata": {},
     "output_type": "execute_result"
    }
   ],
   "source": [
    "# seleccionar la misma columna con []\n"
   ]
  }
 ],
 "metadata": {
  "kernelspec": {
   "display_name": "Python [conda env:base] *",
   "language": "python",
   "name": "conda-base-py"
  },
  "language_info": {
   "codemirror_mode": {
    "name": "ipython",
    "version": 3
   },
   "file_extension": ".py",
   "mimetype": "text/x-python",
   "name": "python",
   "nbconvert_exporter": "python",
   "pygments_lexer": "ipython3",
   "version": "3.12.7"
  },
  "toc": {
   "base_numbering": 1,
   "nav_menu": {},
   "number_sections": true,
   "sideBar": true,
   "skip_h1_title": false,
   "title_cell": "Table of Contents",
   "title_sidebar": "Contents",
   "toc_cell": false,
   "toc_position": {},
   "toc_section_display": true,
   "toc_window_display": false
  }
 },
 "nbformat": 4,
 "nbformat_minor": 5
}
