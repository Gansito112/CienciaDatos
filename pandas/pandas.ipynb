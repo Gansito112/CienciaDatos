{
 "cells": [
  {
   "cell_type": "markdown",
   "id": "25e29f3d-ae24-4e22-82d2-46b2865fe04a",
   "metadata": {},
   "source": [
    "# Configuración de pandas y su importación "
   ]
  },
  {
   "cell_type": "markdown",
   "id": "c6efc25b-22ef-4495-9280-53f499f73135",
   "metadata": {},
   "source": [
    "# Instalar Pandas\n",
    "### pip install pandas\n",
    "import pandas as pd"
   ]
  },
  {
   "cell_type": "code",
   "execution_count": 3,
   "id": "8b5392f8-5481-4fb7-b01d-9f4108df1d3c",
   "metadata": {},
   "outputs": [],
   "source": [
    "import pandas as pd"
   ]
  },
  {
   "cell_type": "markdown",
   "id": "18b8415f-b42c-4a52-a084-e7e614b003ee",
   "metadata": {},
   "source": [
    "### Crear una serie a partir de una lista"
   ]
  },
  {
   "cell_type": "code",
   "execution_count": 5,
   "id": "89d9301c-876a-4f85-ad2d-c14a8dae3d8f",
   "metadata": {},
   "outputs": [
    {
     "data": {
      "text/plain": [
       "['Challenger', 'Toyota', 'Mazda', 'KIA', 'Mitsubishi', 'Ferraria']"
      ]
     },
     "execution_count": 5,
     "metadata": {},
     "output_type": "execute_result"
    }
   ],
   "source": [
    "carros = ['Challenger', 'Toyota', 'Mazda', 'KIA', 'Mitsubishi', 'Ferraria']\n",
    "carros"
   ]
  },
  {
   "cell_type": "markdown",
   "id": "6e4a2519-7d95-4197-9311-cae6ecec4cd0",
   "metadata": {},
   "source": [
    "## Crear una serie"
   ]
  },
  {
   "cell_type": "code",
   "execution_count": 6,
   "id": "579219de-29dc-4d7b-88d5-aba16d00f820",
   "metadata": {},
   "outputs": [
    {
     "data": {
      "text/plain": [
       "0    Challenger\n",
       "1        Toyota\n",
       "2         Mazda\n",
       "3           KIA\n",
       "4    Mitsubishi\n",
       "5      Ferraria\n",
       "dtype: object"
      ]
     },
     "execution_count": 6,
     "metadata": {},
     "output_type": "execute_result"
    }
   ],
   "source": [
    "pd.Series(carros)"
   ]
  },
  {
   "cell_type": "markdown",
   "id": "18f58016-0981-4239-b8ed-c00168e55f2d",
   "metadata": {},
   "source": [
    "## Crear un dataFrame a partir de una lista de diccionarios (JSON)"
   ]
  },
  {
   "cell_type": "code",
   "execution_count": 8,
   "id": "95a41ba7-ff36-4c00-9af4-8310c412ec9e",
   "metadata": {},
   "outputs": [
    {
     "data": {
      "text/plain": [
       "[{'Nombre': 'Jetta Variant',\n",
       "  'Motor': 'Motor 4.0 Turbo',\n",
       "  'Year': 2020,\n",
       "  'Kilometraje': 4324.0,\n",
       "  'Cero': False,\n",
       "  'Valor': 120000},\n",
       " {'Nombre': 'Camaro',\n",
       "  'Motor': 'Motor 4.54 LS',\n",
       "  'Year': 2022,\n",
       "  'Kilometraje': 12000.0,\n",
       "  'Cero': False,\n",
       "  'Valor': 480000},\n",
       " {'Nombre': 'Challenger',\n",
       "  'Motor': 'Motor 4.3 Turbo',\n",
       "  'Year': 2024,\n",
       "  'Kilometraje': 0.0,\n",
       "  'Cero': True,\n",
       "  'Valor': 1100000},\n",
       " {'Nombre': 'Audi 8 Spider',\n",
       "  'Motor': 'Motor 8.0 Turbo',\n",
       "  'Year': 2025,\n",
       "  'Kilometraje': 0.0,\n",
       "  'Cero': True,\n",
       "  'Valor': 4400000}]"
      ]
     },
     "execution_count": 8,
     "metadata": {},
     "output_type": "execute_result"
    }
   ],
   "source": [
    "datos = [\n",
    "    {\"Nombre\": 'Jetta Variant', \"Motor\": 'Motor 4.0 Turbo', \"Year\": 2020, \"Kilometraje\": 4324.0, \"Cero\": False, \"Valor\": 120000},\n",
    "     {\"Nombre\": 'Camaro', \"Motor\": 'Motor 4.54 LS', \"Year\": 2022, \"Kilometraje\": 12000.0, \"Cero\": False, \"Valor\": 480000},\n",
    "     {\"Nombre\": 'Challenger', \"Motor\": 'Motor 4.3 Turbo', \"Year\": 2024, \"Kilometraje\": 0.0, \"Cero\": True, \"Valor\": 1100000},\n",
    "     {\"Nombre\": 'Audi 8 Spider', \"Motor\": 'Motor 8.0 Turbo', \"Year\": 2025, \"Kilometraje\": 0.0, \"Cero\": True, \"Valor\": 4400000}\n",
    "]\n",
    "datos"
   ]
  },
  {
   "cell_type": "markdown",
   "id": "9b265a4a-8b89-4a3e-a1f7-92f49dddaacd",
   "metadata": {},
   "source": [
    "## Crear dataset"
   ]
  },
  {
   "cell_type": "code",
   "execution_count": 9,
   "id": "dc8105f8-728e-411e-b8b1-5ecb08add85f",
   "metadata": {},
   "outputs": [
    {
     "data": {
      "text/html": [
       "<div>\n",
       "<style scoped>\n",
       "    .dataframe tbody tr th:only-of-type {\n",
       "        vertical-align: middle;\n",
       "    }\n",
       "\n",
       "    .dataframe tbody tr th {\n",
       "        vertical-align: top;\n",
       "    }\n",
       "\n",
       "    .dataframe thead th {\n",
       "        text-align: right;\n",
       "    }\n",
       "</style>\n",
       "<table border=\"1\" class=\"dataframe\">\n",
       "  <thead>\n",
       "    <tr style=\"text-align: right;\">\n",
       "      <th></th>\n",
       "      <th>Nombre</th>\n",
       "      <th>Motor</th>\n",
       "      <th>Year</th>\n",
       "      <th>Kilometraje</th>\n",
       "      <th>Cero</th>\n",
       "      <th>Valor</th>\n",
       "    </tr>\n",
       "  </thead>\n",
       "  <tbody>\n",
       "    <tr>\n",
       "      <th>0</th>\n",
       "      <td>Jetta Variant</td>\n",
       "      <td>Motor 4.0 Turbo</td>\n",
       "      <td>2020</td>\n",
       "      <td>4324.0</td>\n",
       "      <td>False</td>\n",
       "      <td>120000</td>\n",
       "    </tr>\n",
       "    <tr>\n",
       "      <th>1</th>\n",
       "      <td>Camaro</td>\n",
       "      <td>Motor 4.54 LS</td>\n",
       "      <td>2022</td>\n",
       "      <td>12000.0</td>\n",
       "      <td>False</td>\n",
       "      <td>480000</td>\n",
       "    </tr>\n",
       "    <tr>\n",
       "      <th>2</th>\n",
       "      <td>Challenger</td>\n",
       "      <td>Motor 4.3 Turbo</td>\n",
       "      <td>2024</td>\n",
       "      <td>0.0</td>\n",
       "      <td>True</td>\n",
       "      <td>1100000</td>\n",
       "    </tr>\n",
       "    <tr>\n",
       "      <th>3</th>\n",
       "      <td>Audi 8 Spider</td>\n",
       "      <td>Motor 8.0 Turbo</td>\n",
       "      <td>2025</td>\n",
       "      <td>0.0</td>\n",
       "      <td>True</td>\n",
       "      <td>4400000</td>\n",
       "    </tr>\n",
       "  </tbody>\n",
       "</table>\n",
       "</div>"
      ],
      "text/plain": [
       "          Nombre            Motor  Year  Kilometraje   Cero    Valor\n",
       "0  Jetta Variant  Motor 4.0 Turbo  2020       4324.0  False   120000\n",
       "1         Camaro    Motor 4.54 LS  2022      12000.0  False   480000\n",
       "2     Challenger  Motor 4.3 Turbo  2024          0.0   True  1100000\n",
       "3  Audi 8 Spider  Motor 8.0 Turbo  2025          0.0   True  4400000"
      ]
     },
     "execution_count": 9,
     "metadata": {},
     "output_type": "execute_result"
    }
   ],
   "source": [
    "dataset = pd.DataFrame(datos)\n",
    "dataset"
   ]
  },
  {
   "cell_type": "code",
   "execution_count": 60,
   "id": "2c4df87d-bdb4-4804-ad5f-f0ab5c5b3be9",
   "metadata": {},
   "outputs": [
    {
     "data": {
      "text/plain": [
       "Index(['Name', 'Engine', 'Year', 'Mileage', 'Zero_ml', 'Price'], dtype='object')"
      ]
     },
     "execution_count": 60,
     "metadata": {},
     "output_type": "execute_result"
    }
   ],
   "source": [
    "# Nombre de las columnas\n",
    "dataset.columns"
   ]
  },
  {
   "cell_type": "code",
   "execution_count": 11,
   "id": "52bbd673-b7d9-4f33-b9db-a20f38ae1e13",
   "metadata": {},
   "outputs": [
    {
     "data": {
      "text/plain": [
       "array(['Nombre', 'Motor', 'Year', 'Kilometraje'], dtype=object)"
      ]
     },
     "execution_count": 11,
     "metadata": {},
     "output_type": "execute_result"
    }
   ],
   "source": [
    "# Mostrar las primeras 3 columnas\n",
    "dataset.columns.values[0:4]"
   ]
  },
  {
   "cell_type": "markdown",
   "id": "77ec6ba7-34ce-49bc-aaf2-d8c01a2bf92b",
   "metadata": {},
   "source": [
    "dataset.columns.values[-1]"
   ]
  },
  {
   "cell_type": "markdown",
   "id": "77d54163-f481-41c6-8ea5-1a8fff945130",
   "metadata": {},
   "source": [
    "### Cambiar el orden en que se muestran las columnas"
   ]
  },
  {
   "cell_type": "code",
   "execution_count": 14,
   "id": "8b9964eb-1087-42c3-b039-771d3c7d7905",
   "metadata": {},
   "outputs": [
    {
     "data": {
      "text/html": [
       "<div>\n",
       "<style scoped>\n",
       "    .dataframe tbody tr th:only-of-type {\n",
       "        vertical-align: middle;\n",
       "    }\n",
       "\n",
       "    .dataframe tbody tr th {\n",
       "        vertical-align: top;\n",
       "    }\n",
       "\n",
       "    .dataframe thead th {\n",
       "        text-align: right;\n",
       "    }\n",
       "</style>\n",
       "<table border=\"1\" class=\"dataframe\">\n",
       "  <thead>\n",
       "    <tr style=\"text-align: right;\">\n",
       "      <th></th>\n",
       "      <th>Nombre</th>\n",
       "      <th>Valor</th>\n",
       "      <th>Motor</th>\n",
       "      <th>Year</th>\n",
       "      <th>Kilometraje</th>\n",
       "      <th>Cero</th>\n",
       "    </tr>\n",
       "  </thead>\n",
       "  <tbody>\n",
       "    <tr>\n",
       "      <th>0</th>\n",
       "      <td>Jetta Variant</td>\n",
       "      <td>120000</td>\n",
       "      <td>Motor 4.0 Turbo</td>\n",
       "      <td>2020</td>\n",
       "      <td>4324.0</td>\n",
       "      <td>False</td>\n",
       "    </tr>\n",
       "    <tr>\n",
       "      <th>1</th>\n",
       "      <td>Camaro</td>\n",
       "      <td>480000</td>\n",
       "      <td>Motor 4.54 LS</td>\n",
       "      <td>2022</td>\n",
       "      <td>12000.0</td>\n",
       "      <td>False</td>\n",
       "    </tr>\n",
       "    <tr>\n",
       "      <th>2</th>\n",
       "      <td>Challenger</td>\n",
       "      <td>1100000</td>\n",
       "      <td>Motor 4.3 Turbo</td>\n",
       "      <td>2024</td>\n",
       "      <td>0.0</td>\n",
       "      <td>True</td>\n",
       "    </tr>\n",
       "    <tr>\n",
       "      <th>3</th>\n",
       "      <td>Audi 8 Spider</td>\n",
       "      <td>4400000</td>\n",
       "      <td>Motor 8.0 Turbo</td>\n",
       "      <td>2025</td>\n",
       "      <td>0.0</td>\n",
       "      <td>True</td>\n",
       "    </tr>\n",
       "  </tbody>\n",
       "</table>\n",
       "</div>"
      ],
      "text/plain": [
       "          Nombre    Valor            Motor  Year  Kilometraje   Cero\n",
       "0  Jetta Variant   120000  Motor 4.0 Turbo  2020       4324.0  False\n",
       "1         Camaro   480000    Motor 4.54 LS  2022      12000.0  False\n",
       "2     Challenger  1100000  Motor 4.3 Turbo  2024          0.0   True\n",
       "3  Audi 8 Spider  4400000  Motor 8.0 Turbo  2025          0.0   True"
      ]
     },
     "execution_count": 14,
     "metadata": {},
     "output_type": "execute_result"
    }
   ],
   "source": [
    "dataset[['Nombre','Valor', 'Motor', 'Year', 'Kilometraje', 'Cero']]"
   ]
  },
  {
   "cell_type": "markdown",
   "id": "eee7ed1f-9a09-4117-abb4-407a1d30b20e",
   "metadata": {},
   "source": [
    "### Cambiar el nombre de las columnas"
   ]
  },
  {
   "cell_type": "code",
   "execution_count": 16,
   "id": "7f9fc2b7-ceb4-4056-ad2b-13b63f582359",
   "metadata": {},
   "outputs": [
    {
     "data": {
      "text/html": [
       "<div>\n",
       "<style scoped>\n",
       "    .dataframe tbody tr th:only-of-type {\n",
       "        vertical-align: middle;\n",
       "    }\n",
       "\n",
       "    .dataframe tbody tr th {\n",
       "        vertical-align: top;\n",
       "    }\n",
       "\n",
       "    .dataframe thead th {\n",
       "        text-align: right;\n",
       "    }\n",
       "</style>\n",
       "<table border=\"1\" class=\"dataframe\">\n",
       "  <thead>\n",
       "    <tr style=\"text-align: right;\">\n",
       "      <th></th>\n",
       "      <th>Name</th>\n",
       "      <th>Engine</th>\n",
       "      <th>Year</th>\n",
       "      <th>Mileage</th>\n",
       "      <th>Zero_ml</th>\n",
       "      <th>Price</th>\n",
       "    </tr>\n",
       "  </thead>\n",
       "  <tbody>\n",
       "    <tr>\n",
       "      <th>0</th>\n",
       "      <td>Jetta Variant</td>\n",
       "      <td>Motor 4.0 Turbo</td>\n",
       "      <td>2020</td>\n",
       "      <td>4324.0</td>\n",
       "      <td>False</td>\n",
       "      <td>120000</td>\n",
       "    </tr>\n",
       "    <tr>\n",
       "      <th>1</th>\n",
       "      <td>Camaro</td>\n",
       "      <td>Motor 4.54 LS</td>\n",
       "      <td>2022</td>\n",
       "      <td>12000.0</td>\n",
       "      <td>False</td>\n",
       "      <td>480000</td>\n",
       "    </tr>\n",
       "    <tr>\n",
       "      <th>2</th>\n",
       "      <td>Challenger</td>\n",
       "      <td>Motor 4.3 Turbo</td>\n",
       "      <td>2024</td>\n",
       "      <td>0.0</td>\n",
       "      <td>True</td>\n",
       "      <td>1100000</td>\n",
       "    </tr>\n",
       "    <tr>\n",
       "      <th>3</th>\n",
       "      <td>Audi 8 Spider</td>\n",
       "      <td>Motor 8.0 Turbo</td>\n",
       "      <td>2025</td>\n",
       "      <td>0.0</td>\n",
       "      <td>True</td>\n",
       "      <td>4400000</td>\n",
       "    </tr>\n",
       "  </tbody>\n",
       "</table>\n",
       "</div>"
      ],
      "text/plain": [
       "            Name           Engine  Year  Mileage  Zero_ml    Price\n",
       "0  Jetta Variant  Motor 4.0 Turbo  2020   4324.0    False   120000\n",
       "1         Camaro    Motor 4.54 LS  2022  12000.0    False   480000\n",
       "2     Challenger  Motor 4.3 Turbo  2024      0.0     True  1100000\n",
       "3  Audi 8 Spider  Motor 8.0 Turbo  2025      0.0     True  4400000"
      ]
     },
     "execution_count": 16,
     "metadata": {},
     "output_type": "execute_result"
    }
   ],
   "source": [
    "dataset = dataset.rename(columns = {\"Nombre\" : 'Name', \n",
    "                                    \"Motor\" : 'Engine', \n",
    "                                    \"Year\" : 'Year', \n",
    "                                    \"Kilometraje\": 'Mileage', \n",
    "                                    \"Cero\" : 'Zero_ml', \n",
    "                                    \"Valor\" : 'Price'\n",
    "})\n",
    "dataset"
   ]
  },
  {
   "cell_type": "markdown",
   "id": "8223acbb-31d3-46d1-aaa2-533d9f04306c",
   "metadata": {},
   "source": [
    "## Seleccionar columnas"
   ]
  },
  {
   "cell_type": "code",
   "execution_count": 17,
   "id": "72558e11-71c1-4c04-a5bb-be96a7f0d97c",
   "metadata": {},
   "outputs": [
    {
     "data": {
      "text/plain": [
       "0    Motor 4.0 Turbo\n",
       "1      Motor 4.54 LS\n",
       "2    Motor 4.3 Turbo\n",
       "3    Motor 8.0 Turbo\n",
       "Name: Engine, dtype: object"
      ]
     },
     "execution_count": 17,
     "metadata": {},
     "output_type": "execute_result"
    }
   ],
   "source": [
    "dataset[\"Engine\"]"
   ]
  },
  {
   "cell_type": "code",
   "execution_count": 18,
   "id": "65b09ef2-b65b-4760-aaf0-3d55ea6a8a6e",
   "metadata": {},
   "outputs": [
    {
     "data": {
      "text/html": [
       "<div>\n",
       "<style scoped>\n",
       "    .dataframe tbody tr th:only-of-type {\n",
       "        vertical-align: middle;\n",
       "    }\n",
       "\n",
       "    .dataframe tbody tr th {\n",
       "        vertical-align: top;\n",
       "    }\n",
       "\n",
       "    .dataframe thead th {\n",
       "        text-align: right;\n",
       "    }\n",
       "</style>\n",
       "<table border=\"1\" class=\"dataframe\">\n",
       "  <thead>\n",
       "    <tr style=\"text-align: right;\">\n",
       "      <th></th>\n",
       "      <th>Name</th>\n",
       "      <th>Price</th>\n",
       "    </tr>\n",
       "  </thead>\n",
       "  <tbody>\n",
       "    <tr>\n",
       "      <th>0</th>\n",
       "      <td>Jetta Variant</td>\n",
       "      <td>120000</td>\n",
       "    </tr>\n",
       "    <tr>\n",
       "      <th>1</th>\n",
       "      <td>Camaro</td>\n",
       "      <td>480000</td>\n",
       "    </tr>\n",
       "    <tr>\n",
       "      <th>2</th>\n",
       "      <td>Challenger</td>\n",
       "      <td>1100000</td>\n",
       "    </tr>\n",
       "    <tr>\n",
       "      <th>3</th>\n",
       "      <td>Audi 8 Spider</td>\n",
       "      <td>4400000</td>\n",
       "    </tr>\n",
       "  </tbody>\n",
       "</table>\n",
       "</div>"
      ],
      "text/plain": [
       "            Name    Price\n",
       "0  Jetta Variant   120000\n",
       "1         Camaro   480000\n",
       "2     Challenger  1100000\n",
       "3  Audi 8 Spider  4400000"
      ]
     },
     "execution_count": 18,
     "metadata": {},
     "output_type": "execute_result"
    }
   ],
   "source": [
    "dataset[[\"Name\", \"Price\"]]"
   ]
  },
  {
   "cell_type": "markdown",
   "id": "4427cfab-478e-4779-8648-c32bbdf25817",
   "metadata": {},
   "source": [
    "### Mostrar las primeras 2 filas"
   ]
  },
  {
   "cell_type": "code",
   "execution_count": 20,
   "id": "978c82a1-8174-43f2-b14b-8bd5a8f658ac",
   "metadata": {},
   "outputs": [
    {
     "data": {
      "text/html": [
       "<div>\n",
       "<style scoped>\n",
       "    .dataframe tbody tr th:only-of-type {\n",
       "        vertical-align: middle;\n",
       "    }\n",
       "\n",
       "    .dataframe tbody tr th {\n",
       "        vertical-align: top;\n",
       "    }\n",
       "\n",
       "    .dataframe thead th {\n",
       "        text-align: right;\n",
       "    }\n",
       "</style>\n",
       "<table border=\"1\" class=\"dataframe\">\n",
       "  <thead>\n",
       "    <tr style=\"text-align: right;\">\n",
       "      <th></th>\n",
       "      <th>Name</th>\n",
       "      <th>Engine</th>\n",
       "      <th>Year</th>\n",
       "      <th>Mileage</th>\n",
       "      <th>Zero_ml</th>\n",
       "      <th>Price</th>\n",
       "    </tr>\n",
       "  </thead>\n",
       "  <tbody>\n",
       "    <tr>\n",
       "      <th>0</th>\n",
       "      <td>Jetta Variant</td>\n",
       "      <td>Motor 4.0 Turbo</td>\n",
       "      <td>2020</td>\n",
       "      <td>4324.0</td>\n",
       "      <td>False</td>\n",
       "      <td>120000</td>\n",
       "    </tr>\n",
       "    <tr>\n",
       "      <th>1</th>\n",
       "      <td>Camaro</td>\n",
       "      <td>Motor 4.54 LS</td>\n",
       "      <td>2022</td>\n",
       "      <td>12000.0</td>\n",
       "      <td>False</td>\n",
       "      <td>480000</td>\n",
       "    </tr>\n",
       "  </tbody>\n",
       "</table>\n",
       "</div>"
      ],
      "text/plain": [
       "            Name           Engine  Year  Mileage  Zero_ml   Price\n",
       "0  Jetta Variant  Motor 4.0 Turbo  2020   4324.0    False  120000\n",
       "1         Camaro    Motor 4.54 LS  2022  12000.0    False  480000"
      ]
     },
     "execution_count": 20,
     "metadata": {},
     "output_type": "execute_result"
    }
   ],
   "source": [
    "dataset.head(2)"
   ]
  },
  {
   "cell_type": "markdown",
   "id": "52c3e704-a4b0-419b-a162-8640494a5451",
   "metadata": {},
   "source": [
    "## Ver las últimas filas"
   ]
  },
  {
   "cell_type": "code",
   "execution_count": 22,
   "id": "2bbf1022-6f9f-4b4a-9092-172d09e2c4eb",
   "metadata": {},
   "outputs": [
    {
     "data": {
      "text/html": [
       "<div>\n",
       "<style scoped>\n",
       "    .dataframe tbody tr th:only-of-type {\n",
       "        vertical-align: middle;\n",
       "    }\n",
       "\n",
       "    .dataframe tbody tr th {\n",
       "        vertical-align: top;\n",
       "    }\n",
       "\n",
       "    .dataframe thead th {\n",
       "        text-align: right;\n",
       "    }\n",
       "</style>\n",
       "<table border=\"1\" class=\"dataframe\">\n",
       "  <thead>\n",
       "    <tr style=\"text-align: right;\">\n",
       "      <th></th>\n",
       "      <th>Name</th>\n",
       "      <th>Engine</th>\n",
       "      <th>Year</th>\n",
       "      <th>Mileage</th>\n",
       "      <th>Zero_ml</th>\n",
       "      <th>Price</th>\n",
       "    </tr>\n",
       "  </thead>\n",
       "  <tbody>\n",
       "    <tr>\n",
       "      <th>2</th>\n",
       "      <td>Challenger</td>\n",
       "      <td>Motor 4.3 Turbo</td>\n",
       "      <td>2024</td>\n",
       "      <td>0.0</td>\n",
       "      <td>True</td>\n",
       "      <td>1100000</td>\n",
       "    </tr>\n",
       "    <tr>\n",
       "      <th>3</th>\n",
       "      <td>Audi 8 Spider</td>\n",
       "      <td>Motor 8.0 Turbo</td>\n",
       "      <td>2025</td>\n",
       "      <td>0.0</td>\n",
       "      <td>True</td>\n",
       "      <td>4400000</td>\n",
       "    </tr>\n",
       "  </tbody>\n",
       "</table>\n",
       "</div>"
      ],
      "text/plain": [
       "            Name           Engine  Year  Mileage  Zero_ml    Price\n",
       "2     Challenger  Motor 4.3 Turbo  2024      0.0     True  1100000\n",
       "3  Audi 8 Spider  Motor 8.0 Turbo  2025      0.0     True  4400000"
      ]
     },
     "execution_count": 22,
     "metadata": {},
     "output_type": "execute_result"
    }
   ],
   "source": [
    "dataset.tail(2)"
   ]
  },
  {
   "cell_type": "markdown",
   "id": "38aeb12d-dd0e-4dad-9ef2-6c9921170a8c",
   "metadata": {},
   "source": [
    "## Obtener un resumen del dataSet"
   ]
  },
  {
   "cell_type": "code",
   "execution_count": 24,
   "id": "121e17c6-b3ff-46e3-9970-e38ee9ce08f0",
   "metadata": {},
   "outputs": [
    {
     "data": {
      "text/html": [
       "<div>\n",
       "<style scoped>\n",
       "    .dataframe tbody tr th:only-of-type {\n",
       "        vertical-align: middle;\n",
       "    }\n",
       "\n",
       "    .dataframe tbody tr th {\n",
       "        vertical-align: top;\n",
       "    }\n",
       "\n",
       "    .dataframe thead th {\n",
       "        text-align: right;\n",
       "    }\n",
       "</style>\n",
       "<table border=\"1\" class=\"dataframe\">\n",
       "  <thead>\n",
       "    <tr style=\"text-align: right;\">\n",
       "      <th></th>\n",
       "      <th>Year</th>\n",
       "      <th>Mileage</th>\n",
       "      <th>Price</th>\n",
       "    </tr>\n",
       "  </thead>\n",
       "  <tbody>\n",
       "    <tr>\n",
       "      <th>count</th>\n",
       "      <td>4.000000</td>\n",
       "      <td>4.000000</td>\n",
       "      <td>4.000000e+00</td>\n",
       "    </tr>\n",
       "    <tr>\n",
       "      <th>mean</th>\n",
       "      <td>2022.750000</td>\n",
       "      <td>4081.000000</td>\n",
       "      <td>1.525000e+06</td>\n",
       "    </tr>\n",
       "    <tr>\n",
       "      <th>std</th>\n",
       "      <td>2.217356</td>\n",
       "      <td>5659.173438</td>\n",
       "      <td>1.958937e+06</td>\n",
       "    </tr>\n",
       "    <tr>\n",
       "      <th>min</th>\n",
       "      <td>2020.000000</td>\n",
       "      <td>0.000000</td>\n",
       "      <td>1.200000e+05</td>\n",
       "    </tr>\n",
       "    <tr>\n",
       "      <th>25%</th>\n",
       "      <td>2021.500000</td>\n",
       "      <td>0.000000</td>\n",
       "      <td>3.900000e+05</td>\n",
       "    </tr>\n",
       "    <tr>\n",
       "      <th>50%</th>\n",
       "      <td>2023.000000</td>\n",
       "      <td>2162.000000</td>\n",
       "      <td>7.900000e+05</td>\n",
       "    </tr>\n",
       "    <tr>\n",
       "      <th>75%</th>\n",
       "      <td>2024.250000</td>\n",
       "      <td>6243.000000</td>\n",
       "      <td>1.925000e+06</td>\n",
       "    </tr>\n",
       "    <tr>\n",
       "      <th>max</th>\n",
       "      <td>2025.000000</td>\n",
       "      <td>12000.000000</td>\n",
       "      <td>4.400000e+06</td>\n",
       "    </tr>\n",
       "  </tbody>\n",
       "</table>\n",
       "</div>"
      ],
      "text/plain": [
       "              Year       Mileage         Price\n",
       "count     4.000000      4.000000  4.000000e+00\n",
       "mean   2022.750000   4081.000000  1.525000e+06\n",
       "std       2.217356   5659.173438  1.958937e+06\n",
       "min    2020.000000      0.000000  1.200000e+05\n",
       "25%    2021.500000      0.000000  3.900000e+05\n",
       "50%    2023.000000   2162.000000  7.900000e+05\n",
       "75%    2024.250000   6243.000000  1.925000e+06\n",
       "max    2025.000000  12000.000000  4.400000e+06"
      ]
     },
     "execution_count": 24,
     "metadata": {},
     "output_type": "execute_result"
    }
   ],
   "source": [
    "dataset.describe()"
   ]
  },
  {
   "cell_type": "markdown",
   "id": "a1ff8e9d-b022-417f-a4d1-7f591b139654",
   "metadata": {},
   "source": [
    "## Seleccionar lineas (datos)"
   ]
  },
  {
   "cell_type": "code",
   "execution_count": 68,
   "id": "f053a019-f268-42d5-a44a-ccbd4dea960b",
   "metadata": {},
   "outputs": [
    {
     "data": {
      "text/html": [
       "<div>\n",
       "<style scoped>\n",
       "    .dataframe tbody tr th:only-of-type {\n",
       "        vertical-align: middle;\n",
       "    }\n",
       "\n",
       "    .dataframe tbody tr th {\n",
       "        vertical-align: top;\n",
       "    }\n",
       "\n",
       "    .dataframe thead th {\n",
       "        text-align: right;\n",
       "    }\n",
       "</style>\n",
       "<table border=\"1\" class=\"dataframe\">\n",
       "  <thead>\n",
       "    <tr style=\"text-align: right;\">\n",
       "      <th></th>\n",
       "      <th>Name</th>\n",
       "      <th>Engine</th>\n",
       "      <th>Year</th>\n",
       "      <th>Mileage</th>\n",
       "      <th>Zero_ml</th>\n",
       "      <th>Price</th>\n",
       "    </tr>\n",
       "  </thead>\n",
       "  <tbody>\n",
       "    <tr>\n",
       "      <th>2</th>\n",
       "      <td>Challenger</td>\n",
       "      <td>Motor 4.3 Turbo</td>\n",
       "      <td>2024</td>\n",
       "      <td>0.0</td>\n",
       "      <td>True</td>\n",
       "      <td>1100000</td>\n",
       "    </tr>\n",
       "    <tr>\n",
       "      <th>3</th>\n",
       "      <td>Audi 8 Spider</td>\n",
       "      <td>Motor 8.0 Turbo</td>\n",
       "      <td>2025</td>\n",
       "      <td>0.0</td>\n",
       "      <td>True</td>\n",
       "      <td>4400000</td>\n",
       "    </tr>\n",
       "  </tbody>\n",
       "</table>\n",
       "</div>"
      ],
      "text/plain": [
       "            Name           Engine  Year  Mileage  Zero_ml    Price\n",
       "2     Challenger  Motor 4.3 Turbo  2024      0.0     True  1100000\n",
       "3  Audi 8 Spider  Motor 8.0 Turbo  2025      0.0     True  4400000"
      ]
     },
     "execution_count": 68,
     "metadata": {},
     "output_type": "execute_result"
    }
   ],
   "source": [
    "# Mostrar el ultimo\n",
    "dataset[-1:]\n",
    "\n",
    "#Mostrar los dos ultimos\n",
    "dataset[-2:]"
   ]
  },
  {
   "cell_type": "markdown",
   "id": "9665b2f0-365c-4f68-95c8-32ba80e76fc8",
   "metadata": {},
   "source": [
    "### Utilizar (.loc) para secciones"
   ]
  },
  {
   "cell_type": "code",
   "execution_count": 77,
   "id": "715b492c-6447-4672-8c1d-3331b181ac86",
   "metadata": {},
   "outputs": [
    {
     "data": {
      "text/plain": [
       "Name         Audi 8 Spider\n",
       "Engine     Motor 8.0 Turbo\n",
       "Year                  2025\n",
       "Mileage                0.0\n",
       "Zero_ml               True\n",
       "Price              4400000\n",
       "Name: 3, dtype: object"
      ]
     },
     "execution_count": 77,
     "metadata": {},
     "output_type": "execute_result"
    }
   ],
   "source": [
    "#Elemento con un indice\n",
    "dataset.loc[3]"
   ]
  },
  {
   "cell_type": "code",
   "execution_count": 81,
   "id": "93902f22-e51e-4b43-96f8-2fd64e1ea12d",
   "metadata": {},
   "outputs": [
    {
     "data": {
      "text/html": [
       "<div>\n",
       "<style scoped>\n",
       "    .dataframe tbody tr th:only-of-type {\n",
       "        vertical-align: middle;\n",
       "    }\n",
       "\n",
       "    .dataframe tbody tr th {\n",
       "        vertical-align: top;\n",
       "    }\n",
       "\n",
       "    .dataframe thead th {\n",
       "        text-align: right;\n",
       "    }\n",
       "</style>\n",
       "<table border=\"1\" class=\"dataframe\">\n",
       "  <thead>\n",
       "    <tr style=\"text-align: right;\">\n",
       "      <th></th>\n",
       "      <th>Name</th>\n",
       "      <th>Engine</th>\n",
       "      <th>Year</th>\n",
       "      <th>Mileage</th>\n",
       "      <th>Zero_ml</th>\n",
       "      <th>Price</th>\n",
       "    </tr>\n",
       "  </thead>\n",
       "  <tbody>\n",
       "    <tr>\n",
       "      <th>1</th>\n",
       "      <td>Camaro</td>\n",
       "      <td>Motor 4.54 LS</td>\n",
       "      <td>2022</td>\n",
       "      <td>12000.0</td>\n",
       "      <td>False</td>\n",
       "      <td>480000</td>\n",
       "    </tr>\n",
       "    <tr>\n",
       "      <th>2</th>\n",
       "      <td>Challenger</td>\n",
       "      <td>Motor 4.3 Turbo</td>\n",
       "      <td>2024</td>\n",
       "      <td>0.0</td>\n",
       "      <td>True</td>\n",
       "      <td>1100000</td>\n",
       "    </tr>\n",
       "  </tbody>\n",
       "</table>\n",
       "</div>"
      ],
      "text/plain": [
       "         Name           Engine  Year  Mileage  Zero_ml    Price\n",
       "1      Camaro    Motor 4.54 LS  2022  12000.0    False   480000\n",
       "2  Challenger  Motor 4.3 Turbo  2024      0.0     True  1100000"
      ]
     },
     "execution_count": 81,
     "metadata": {},
     "output_type": "execute_result"
    }
   ],
   "source": [
    "# Mostrar los elementos de los indices 1 y 2 \n",
    "dataset.loc[[1,2]]"
   ]
  },
  {
   "cell_type": "code",
   "execution_count": 85,
   "id": "11510238-0bfc-4024-ab07-42557de85603",
   "metadata": {},
   "outputs": [
    {
     "data": {
      "text/html": [
       "<div>\n",
       "<style scoped>\n",
       "    .dataframe tbody tr th:only-of-type {\n",
       "        vertical-align: middle;\n",
       "    }\n",
       "\n",
       "    .dataframe tbody tr th {\n",
       "        vertical-align: top;\n",
       "    }\n",
       "\n",
       "    .dataframe thead th {\n",
       "        text-align: right;\n",
       "    }\n",
       "</style>\n",
       "<table border=\"1\" class=\"dataframe\">\n",
       "  <thead>\n",
       "    <tr style=\"text-align: right;\">\n",
       "      <th></th>\n",
       "      <th>Name</th>\n",
       "      <th>Price</th>\n",
       "    </tr>\n",
       "  </thead>\n",
       "  <tbody>\n",
       "    <tr>\n",
       "      <th>0</th>\n",
       "      <td>Jetta Variant</td>\n",
       "      <td>120000</td>\n",
       "    </tr>\n",
       "    <tr>\n",
       "      <th>1</th>\n",
       "      <td>Camaro</td>\n",
       "      <td>480000</td>\n",
       "    </tr>\n",
       "    <tr>\n",
       "      <th>2</th>\n",
       "      <td>Challenger</td>\n",
       "      <td>1100000</td>\n",
       "    </tr>\n",
       "    <tr>\n",
       "      <th>3</th>\n",
       "      <td>Audi 8 Spider</td>\n",
       "      <td>4400000</td>\n",
       "    </tr>\n",
       "  </tbody>\n",
       "</table>\n",
       "</div>"
      ],
      "text/plain": [
       "            Name    Price\n",
       "0  Jetta Variant   120000\n",
       "1         Camaro   480000\n",
       "2     Challenger  1100000\n",
       "3  Audi 8 Spider  4400000"
      ]
     },
     "execution_count": 85,
     "metadata": {},
     "output_type": "execute_result"
    }
   ],
   "source": [
    "#Mostrar el nombre y el precio\n",
    "dataset.loc[: ,['Name', 'Price']]"
   ]
  },
  {
   "cell_type": "code",
   "execution_count": null,
   "id": "41f9fe9a-1dca-433d-9e78-31c38f9a60ae",
   "metadata": {},
   "outputs": [],
   "source": []
  }
 ],
 "metadata": {
  "kernelspec": {
   "display_name": "Python [conda env:base] *",
   "language": "python",
   "name": "conda-base-py"
  },
  "language_info": {
   "codemirror_mode": {
    "name": "ipython",
    "version": 3
   },
   "file_extension": ".py",
   "mimetype": "text/x-python",
   "name": "python",
   "nbconvert_exporter": "python",
   "pygments_lexer": "ipython3",
   "version": "3.12.7"
  }
 },
 "nbformat": 4,
 "nbformat_minor": 5
}
