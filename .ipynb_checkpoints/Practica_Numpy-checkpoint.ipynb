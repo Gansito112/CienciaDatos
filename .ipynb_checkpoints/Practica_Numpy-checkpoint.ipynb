{
 "cells": [
  {
   "cell_type": "code",
   "execution_count": 3,
   "id": "81a03b94-8758-4b8c-b303-080b0922bc2f",
   "metadata": {},
   "outputs": [],
   "source": [
    "# Practica Numpy"
   ]
  },
  {
   "cell_type": "code",
   "execution_count": 5,
   "id": "5598c0ea-bbce-4dfd-ae77-a43f75397446",
   "metadata": {},
   "outputs": [],
   "source": [
    "## Vectores"
   ]
  },
  {
   "cell_type": "code",
   "execution_count": 7,
   "id": "c236996d-4aa5-4184-8631-c48a9610adbb",
   "metadata": {},
   "outputs": [],
   "source": [
    "# importar la libreria numpy"
   ]
  },
  {
   "cell_type": "code",
   "execution_count": 9,
   "id": "c3bb0492-bf1d-4a1b-ad05-07555dfecd5b",
   "metadata": {},
   "outputs": [],
   "source": [
    "import numpy as np "
   ]
  },
  {
   "cell_type": "code",
   "execution_count": 11,
   "id": "3a1af12a-aa65-483c-a24c-8aeeacab0ef0",
   "metadata": {},
   "outputs": [
    {
     "name": "stdout",
     "output_type": "stream",
     "text": [
      "hola desde numpy\n"
     ]
    }
   ],
   "source": [
    "print (\"hola desde numpy\")"
   ]
  },
  {
   "cell_type": "code",
   "execution_count": 13,
   "id": "af5cfd92-6824-4ac1-9c2b-d9124023fcba",
   "metadata": {},
   "outputs": [],
   "source": [
    "# Variables en Python"
   ]
  },
  {
   "cell_type": "code",
   "execution_count": 19,
   "id": "c55699cd-0d81-4de3-a8a6-ac4ab96bb3b2",
   "metadata": {},
   "outputs": [
    {
     "name": "stdout",
     "output_type": "stream",
     "text": [
      "Leonardo 53 True 1.67\n"
     ]
    }
   ],
   "source": [
    "nombre = \"Leonardo\"\n",
    "edad = 53\n",
    "casado = True\n",
    "estatura = 1.67\n",
    "print (nombre, edad, casado, estatura)"
   ]
  },
  {
   "cell_type": "code",
   "execution_count": 55,
   "id": "022923c6-993e-4301-8fa7-29d7b3579a4f",
   "metadata": {},
   "outputs": [
    {
     "name": "stdout",
     "output_type": "stream",
     "text": [
      "Nombre: Leonardo, Edad: 53, Estado Civil: True, Estatura 1.67\n"
     ]
    }
   ],
   "source": [
    "print(f\"Nombre: {nombre}, Edad: {edad}, Estado Civil: {casado}, Estatura {estatura}\")"
   ]
  },
  {
   "cell_type": "code",
   "execution_count": 99,
   "id": "252a20bd-e36f-42c5-a696-9acd371b23ec",
   "metadata": {},
   "outputs": [
    {
     "name": "stdout",
     "output_type": "stream",
     "text": [
      "Estado Civil: Casado\n",
      "Estado Civil: Casado\n"
     ]
    }
   ],
   "source": [
    "if casado:\n",
    "    print(\"Estado Civil: Casado\")\n",
    "\n",
    "if casado:  # No es necesario comparar con True\n",
    "    print(\"Estado Civil: Casado\")"
   ]
  },
  {
   "cell_type": "code",
   "execution_count": 1,
   "id": "054275e2-4372-4379-8e9d-647b6ec5300c",
   "metadata": {},
   "outputs": [
    {
     "name": "stdout",
     "output_type": "stream",
     "text": [
      "0\n",
      "1\n",
      "2\n",
      "3\n",
      "4\n",
      "5\n",
      "6\n",
      "7\n",
      "8\n",
      "9\n"
     ]
    }
   ],
   "source": [
    "for i in range (10):\n",
    "    print (i)"
   ]
  },
  {
   "cell_type": "code",
   "execution_count": 5,
   "id": "a36decb8-493b-40b1-afb5-8c1da4550759",
   "metadata": {},
   "outputs": [
    {
     "name": "stdout",
     "output_type": "stream",
     "text": [
      "0\n",
      "2\n",
      "4\n",
      "6\n",
      "8\n",
      "10\n"
     ]
    }
   ],
   "source": [
    " for i in range (0, 11, 2):\n",
    "     print(i)\n"
   ]
  },
  {
   "cell_type": "code",
   "execution_count": 26,
   "id": "9a44a94c-a608-488f-9a8d-afc2d6d02958",
   "metadata": {},
   "outputs": [
    {
     "name": "stdout",
     "output_type": "stream",
     "text": [
      "[18, 19, 23, 21, 22, 16, 17, 18]\n",
      "18\n",
      "19\n",
      "23\n",
      "21\n",
      "22\n",
      "16\n",
      "17\n",
      "18\n",
      "Mayor de edad\n",
      "Mayor de edad\n",
      "Mayor de edad\n",
      "Mayor de edad\n",
      "Mayor de edad\n",
      "No es Mayor de edad\n",
      "No es Mayor de edad\n",
      "Mayor de edad\n"
     ]
    }
   ],
   "source": [
    "# Listas []\n",
    "edades = [18, 19, 23, 21, 22, 16, 17, 18]\n",
    "print (edades)\n",
    "\n",
    "for est in edades:\n",
    "    print(est)\n",
    "\n",
    "for est in edades:\n",
    "    if est >= 18:\n",
    "        print(\"Mayor de edad\")\n",
    "    else:\n",
    "        print(\"No es Mayor de edad\")"
   ]
  },
  {
   "cell_type": "code",
   "execution_count": 3,
   "id": "e7df0be3-c631-42d2-a6f2-05abd196e98f",
   "metadata": {},
   "outputs": [
    {
     "name": "stdout",
     "output_type": "stream",
     "text": [
      "Nombre:  Christian Antonio Escalera A.\n",
      "{'Nombre': 'Christian Antonio Escalera A.', 'Edad': 53, 'Sexo': 'M', 'Estado_civil': 'soltero'}\n",
      "[{'estudiante': 'Karla', 'edad': 18, 'promedio': 90.8}, {'estudiante': 'Sam', 'edad': 19, 'promedio': 92.8}, {'estudiante': 'Agustin', 'edad': 21, 'promedio': 97.8}]\n",
      "Nombre: Karla promedio: 90.8\n",
      "Nombre: Sam promedio: 92.8\n",
      "Nombre: Agustin promedio: 97.8\n"
     ]
    }
   ],
   "source": [
    "# Diccionario de Datos {}\n",
    "estudiante = {\"Nombre\": 'Christian Antonio Escalera A.', \"Edad\": 53, \"Sexo\": 'M' }\n",
    "\n",
    "# Para imprimir\n",
    "print (\"Nombre: \", estudiante[\"Nombre\"])\n",
    "\n",
    "#Agregar elemento al diccionario\n",
    "estudiante [\"Estado_civil\"] = 'soltero'\n",
    "print(estudiante)\n",
    "\n",
    "#Lista de Diccionarios\n",
    "lista =[\n",
    "    {\"estudiante\": 'Karla', \"edad\": 18, \"promedio\": 90.8},\n",
    "    {\"estudiante\": 'Sam', \"edad\": 19, \"promedio\": 92.8},\n",
    "    {\"estudiante\": 'Agustin', \"edad\": 21, \"promedio\": 97.8}\n",
    "]\n",
    "\n",
    "print(lista)\n",
    "\n",
    "for est in lista:\n",
    "    print (f\"Nombre: {est.get(\"estudiante\")} promedio: {est.get('promedio')}\")"
   ]
  },
  {
   "cell_type": "code",
   "execution_count": null,
   "id": "0579d27d-0699-47ca-b003-e0a818d25801",
   "metadata": {},
   "outputs": [],
   "source": []
  }
 ],
 "metadata": {
  "kernelspec": {
   "display_name": "Python [conda env:base] *",
   "language": "python",
   "name": "conda-base-py"
  },
  "language_info": {
   "codemirror_mode": {
    "name": "ipython",
    "version": 3
   },
   "file_extension": ".py",
   "mimetype": "text/x-python",
   "name": "python",
   "nbconvert_exporter": "python",
   "pygments_lexer": "ipython3",
   "version": "3.12.7"
  }
 },
 "nbformat": 4,
 "nbformat_minor": 5
}
